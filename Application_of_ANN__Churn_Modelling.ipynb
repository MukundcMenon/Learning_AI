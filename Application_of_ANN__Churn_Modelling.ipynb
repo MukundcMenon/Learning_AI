{
  "nbformat": 4,
  "nbformat_minor": 0,
  "metadata": {
    "colab": {
      "provenance": [],
      "gpuType": "T4",
      "authorship_tag": "ABX9TyMVSDCwwI/YHSwKyOPNpdcv",
      "include_colab_link": true
    },
    "kernelspec": {
      "name": "python3",
      "display_name": "Python 3"
    },
    "language_info": {
      "name": "python"
    },
    "accelerator": "GPU"
  },
  "cells": [
    {
      "cell_type": "markdown",
      "metadata": {
        "id": "view-in-github",
        "colab_type": "text"
      },
      "source": [
        "<a href=\"https://colab.research.google.com/github/MukundcMenon/Learning_AI/blob/main/Application_of_ANN__Churn_Modelling.ipynb\" target=\"_parent\"><img src=\"https://colab.research.google.com/assets/colab-badge.svg\" alt=\"Open In Colab\"/></a>"
      ]
    },
    {
      "cell_type": "code",
      "execution_count": null,
      "metadata": {
        "id": "CfyFMaAIdv24"
      },
      "outputs": [],
      "source": [
        "import tensorflow as tf\n",
        "import numpy as np\n",
        "import matplotlib.pyplot as plt\n",
        "import pandas as pd"
      ]
    },
    {
      "cell_type": "code",
      "source": [
        "dataset = pd.read_csv(\"Churn_Modelling.csv\")\n",
        "# Independant Features\n",
        "X = dataset.iloc[:,3:13]\n",
        "\n",
        "# Dependant Features\n",
        "y = dataset.iloc[:,13]"
      ],
      "metadata": {
        "id": "AyWbPsglfEp-"
      },
      "execution_count": null,
      "outputs": []
    },
    {
      "cell_type": "code",
      "source": [
        "# Feature Engineering\n",
        "\"\"\"\n",
        "The Column Geography is a catergorical feature, hence it can be one-hot-encoded\n",
        "Since there are only 3 categories, the training requires to keep only 2 of them\n",
        "\"\"\"\n",
        "\n",
        "geography = pd.get_dummies(X['Geography'], drop_first=True, dtype=int)\n",
        "gender = pd.get_dummies(X['Gender'], drop_first=True, dtype=int)\n",
        "\n",
        "X = X.drop(['Geography','Gender'], axis=1, inplace=False)\n",
        "X = pd.concat([X,geography,gender], axis=1)"
      ],
      "metadata": {
        "id": "Ni_GQeHyBC2A"
      },
      "execution_count": null,
      "outputs": []
    },
    {
      "cell_type": "code",
      "source": [
        "# Splitting to train test split\n",
        "from sklearn.model_selection import train_test_split\n",
        "\n",
        "X_train,X_test,y_train,y_test = train_test_split(X,y,test_size=0.2,random_state=0)\n",
        "\n",
        "# Feature Scaling\n",
        "from sklearn.preprocessing import StandardScaler\n",
        "\n",
        "sc = StandardScaler()\n",
        "X_train = sc.fit_transform(X_train)\n",
        "X_test = sc.transform(X_test)"
      ],
      "metadata": {
        "id": "F7l1nX-YCgKt"
      },
      "execution_count": null,
      "outputs": []
    },
    {
      "cell_type": "code",
      "source": [
        "# Create ANN\n",
        "from tensorflow.keras.models import Sequential\n",
        "from tensorflow.keras.layers import Dense\n",
        "from tensorflow.keras.layers import LeakyReLU, ReLU\n",
        "from tensorflow.keras.layers import Dropout"
      ],
      "metadata": {
        "id": "HPcgfgQvC7xK"
      },
      "execution_count": null,
      "outputs": []
    },
    {
      "cell_type": "code",
      "source": [
        "classifier = Sequential()"
      ],
      "metadata": {
        "id": "pjlycG2tIz7v"
      },
      "execution_count": null,
      "outputs": []
    },
    {
      "cell_type": "code",
      "source": [
        "# Input Layer\n",
        "classifier.add(Dense(units = 11,activation='relu'))\n",
        "\n",
        "# First Hidden Layer\n",
        "classifier.add(Dense(units = 6,activation='relu'))\n",
        "classifier.add(Dropout(0.3))\n",
        "\n",
        "# Second Hidden Layer\n",
        "classifier.add(Dense(units = 6,activation='relu'))\n",
        "classifier.add(Dropout(0.3))\n",
        "\n",
        "# Output Layer\n",
        "classifier.add(Dense(units = 1,activation='sigmoid'))"
      ],
      "metadata": {
        "id": "TKdgT3QuJIZg"
      },
      "execution_count": null,
      "outputs": []
    },
    {
      "cell_type": "code",
      "source": [
        "# Changing the default learning rate from 0.1 to 0.01\n",
        "\n",
        "import tensorflow\n",
        "opt = tensorflow.keras.optimizers.Adam(learning_rate = 0.01)"
      ],
      "metadata": {
        "id": "c6jazatFL7py"
      },
      "execution_count": null,
      "outputs": []
    },
    {
      "cell_type": "code",
      "source": [
        "classifier.compile(\n",
        "    optimizer = opt,\n",
        "    loss = 'binary_crossentropy',\n",
        "    metrics = ['accuracy']\n",
        ")"
      ],
      "metadata": {
        "id": "hscB_6fLL8sK"
      },
      "execution_count": null,
      "outputs": []
    },
    {
      "cell_type": "code",
      "source": [
        "# Add Early Stopping to reduce number of epochs\n",
        "early_stopping = tensorflow.keras.callbacks.EarlyStopping(\n",
        "    monitor=\"val_loss\",\n",
        "    min_delta=0.001,\n",
        "    patience=20,\n",
        "    verbose=1,\n",
        "    mode=\"auto\",\n",
        "    baseline=None,\n",
        "    restore_best_weights=False,\n",
        "    start_from_epoch=0,\n",
        ")\n",
        "\n",
        "model_history = classifier.fit(\n",
        "    X_train,\n",
        "    y_train,\n",
        "    validation_split = 0.33,\n",
        "    batch_size = 10,\n",
        "    epochs = 500,\n",
        "    callbacks=[early_stopping]\n",
        ")"
      ],
      "metadata": {
        "colab": {
          "base_uri": "https://localhost:8080/"
        },
        "id": "STSz25XbNPz0",
        "outputId": "19633cba-1739-4af2-a3fb-9cc05806ac0b"
      },
      "execution_count": null,
      "outputs": [
        {
          "output_type": "stream",
          "name": "stdout",
          "text": [
            "Epoch 1/500\n",
            "\u001b[1m536/536\u001b[0m \u001b[32m━━━━━━━━━━━━━━━━━━━━\u001b[0m\u001b[37m\u001b[0m \u001b[1m6s\u001b[0m 6ms/step - accuracy: 0.7740 - loss: 0.5342 - val_accuracy: 0.7963 - val_loss: 0.4456\n",
            "Epoch 2/500\n",
            "\u001b[1m536/536\u001b[0m \u001b[32m━━━━━━━━━━━━━━━━━━━━\u001b[0m\u001b[37m\u001b[0m \u001b[1m2s\u001b[0m 4ms/step - accuracy: 0.8067 - loss: 0.4522 - val_accuracy: 0.8402 - val_loss: 0.3808\n",
            "Epoch 3/500\n",
            "\u001b[1m536/536\u001b[0m \u001b[32m━━━━━━━━━━━━━━━━━━━━\u001b[0m\u001b[37m\u001b[0m \u001b[1m2s\u001b[0m 4ms/step - accuracy: 0.8300 - loss: 0.4057 - val_accuracy: 0.8186 - val_loss: 0.3929\n",
            "Epoch 4/500\n",
            "\u001b[1m536/536\u001b[0m \u001b[32m━━━━━━━━━━━━━━━━━━━━\u001b[0m\u001b[37m\u001b[0m \u001b[1m2s\u001b[0m 4ms/step - accuracy: 0.8264 - loss: 0.4041 - val_accuracy: 0.8466 - val_loss: 0.3786\n",
            "Epoch 5/500\n",
            "\u001b[1m536/536\u001b[0m \u001b[32m━━━━━━━━━━━━━━━━━━━━\u001b[0m\u001b[37m\u001b[0m \u001b[1m2s\u001b[0m 3ms/step - accuracy: 0.8385 - loss: 0.4010 - val_accuracy: 0.8432 - val_loss: 0.3714\n",
            "Epoch 6/500\n",
            "\u001b[1m536/536\u001b[0m \u001b[32m━━━━━━━━━━━━━━━━━━━━\u001b[0m\u001b[37m\u001b[0m \u001b[1m3s\u001b[0m 3ms/step - accuracy: 0.8480 - loss: 0.3748 - val_accuracy: 0.8493 - val_loss: 0.3775\n",
            "Epoch 7/500\n",
            "\u001b[1m536/536\u001b[0m \u001b[32m━━━━━━━━━━━━━━━━━━━━\u001b[0m\u001b[37m\u001b[0m \u001b[1m2s\u001b[0m 3ms/step - accuracy: 0.8343 - loss: 0.3867 - val_accuracy: 0.8474 - val_loss: 0.3691\n",
            "Epoch 8/500\n",
            "\u001b[1m536/536\u001b[0m \u001b[32m━━━━━━━━━━━━━━━━━━━━\u001b[0m\u001b[37m\u001b[0m \u001b[1m3s\u001b[0m 4ms/step - accuracy: 0.8465 - loss: 0.3727 - val_accuracy: 0.8466 - val_loss: 0.3684\n",
            "Epoch 9/500\n",
            "\u001b[1m536/536\u001b[0m \u001b[32m━━━━━━━━━━━━━━━━━━━━\u001b[0m\u001b[37m\u001b[0m \u001b[1m2s\u001b[0m 3ms/step - accuracy: 0.8395 - loss: 0.3774 - val_accuracy: 0.8459 - val_loss: 0.3749\n",
            "Epoch 10/500\n",
            "\u001b[1m536/536\u001b[0m \u001b[32m━━━━━━━━━━━━━━━━━━━━\u001b[0m\u001b[37m\u001b[0m \u001b[1m2s\u001b[0m 3ms/step - accuracy: 0.8493 - loss: 0.3729 - val_accuracy: 0.8307 - val_loss: 0.3797\n",
            "Epoch 11/500\n",
            "\u001b[1m536/536\u001b[0m \u001b[32m━━━━━━━━━━━━━━━━━━━━\u001b[0m\u001b[37m\u001b[0m \u001b[1m3s\u001b[0m 5ms/step - accuracy: 0.8458 - loss: 0.3722 - val_accuracy: 0.8519 - val_loss: 0.3673\n",
            "Epoch 12/500\n",
            "\u001b[1m536/536\u001b[0m \u001b[32m━━━━━━━━━━━━━━━━━━━━\u001b[0m\u001b[37m\u001b[0m \u001b[1m2s\u001b[0m 4ms/step - accuracy: 0.8346 - loss: 0.3904 - val_accuracy: 0.8429 - val_loss: 0.3742\n",
            "Epoch 13/500\n",
            "\u001b[1m536/536\u001b[0m \u001b[32m━━━━━━━━━━━━━━━━━━━━\u001b[0m\u001b[37m\u001b[0m \u001b[1m3s\u001b[0m 6ms/step - accuracy: 0.8440 - loss: 0.3802 - val_accuracy: 0.8535 - val_loss: 0.3634\n",
            "Epoch 14/500\n",
            "\u001b[1m536/536\u001b[0m \u001b[32m━━━━━━━━━━━━━━━━━━━━\u001b[0m\u001b[37m\u001b[0m \u001b[1m2s\u001b[0m 4ms/step - accuracy: 0.8442 - loss: 0.3830 - val_accuracy: 0.8466 - val_loss: 0.3702\n",
            "Epoch 15/500\n",
            "\u001b[1m536/536\u001b[0m \u001b[32m━━━━━━━━━━━━━━━━━━━━\u001b[0m\u001b[37m\u001b[0m \u001b[1m2s\u001b[0m 3ms/step - accuracy: 0.8458 - loss: 0.3772 - val_accuracy: 0.8493 - val_loss: 0.3689\n",
            "Epoch 16/500\n",
            "\u001b[1m536/536\u001b[0m \u001b[32m━━━━━━━━━━━━━━━━━━━━\u001b[0m\u001b[37m\u001b[0m \u001b[1m2s\u001b[0m 3ms/step - accuracy: 0.8483 - loss: 0.3753 - val_accuracy: 0.8516 - val_loss: 0.3674\n",
            "Epoch 17/500\n",
            "\u001b[1m536/536\u001b[0m \u001b[32m━━━━━━━━━━━━━━━━━━━━\u001b[0m\u001b[37m\u001b[0m \u001b[1m3s\u001b[0m 3ms/step - accuracy: 0.8510 - loss: 0.3733 - val_accuracy: 0.8440 - val_loss: 0.3725\n",
            "Epoch 18/500\n",
            "\u001b[1m536/536\u001b[0m \u001b[32m━━━━━━━━━━━━━━━━━━━━\u001b[0m\u001b[37m\u001b[0m \u001b[1m3s\u001b[0m 4ms/step - accuracy: 0.8404 - loss: 0.3809 - val_accuracy: 0.8527 - val_loss: 0.3657\n",
            "Epoch 19/500\n",
            "\u001b[1m536/536\u001b[0m \u001b[32m━━━━━━━━━━━━━━━━━━━━\u001b[0m\u001b[37m\u001b[0m \u001b[1m2s\u001b[0m 3ms/step - accuracy: 0.8577 - loss: 0.3646 - val_accuracy: 0.8485 - val_loss: 0.3679\n",
            "Epoch 20/500\n",
            "\u001b[1m536/536\u001b[0m \u001b[32m━━━━━━━━━━━━━━━━━━━━\u001b[0m\u001b[37m\u001b[0m \u001b[1m2s\u001b[0m 3ms/step - accuracy: 0.8528 - loss: 0.3608 - val_accuracy: 0.8493 - val_loss: 0.3706\n",
            "Epoch 21/500\n",
            "\u001b[1m536/536\u001b[0m \u001b[32m━━━━━━━━━━━━━━━━━━━━\u001b[0m\u001b[37m\u001b[0m \u001b[1m2s\u001b[0m 3ms/step - accuracy: 0.8511 - loss: 0.3689 - val_accuracy: 0.8516 - val_loss: 0.3636\n",
            "Epoch 22/500\n",
            "\u001b[1m536/536\u001b[0m \u001b[32m━━━━━━━━━━━━━━━━━━━━\u001b[0m\u001b[37m\u001b[0m \u001b[1m2s\u001b[0m 3ms/step - accuracy: 0.8369 - loss: 0.3767 - val_accuracy: 0.8466 - val_loss: 0.3738\n",
            "Epoch 23/500\n",
            "\u001b[1m536/536\u001b[0m \u001b[32m━━━━━━━━━━━━━━━━━━━━\u001b[0m\u001b[37m\u001b[0m \u001b[1m4s\u001b[0m 6ms/step - accuracy: 0.8463 - loss: 0.3755 - val_accuracy: 0.8527 - val_loss: 0.3737\n",
            "Epoch 24/500\n",
            "\u001b[1m536/536\u001b[0m \u001b[32m━━━━━━━━━━━━━━━━━━━━\u001b[0m\u001b[37m\u001b[0m \u001b[1m4s\u001b[0m 8ms/step - accuracy: 0.8565 - loss: 0.3570 - val_accuracy: 0.8360 - val_loss: 0.3852\n",
            "Epoch 25/500\n",
            "\u001b[1m536/536\u001b[0m \u001b[32m━━━━━━━━━━━━━━━━━━━━\u001b[0m\u001b[37m\u001b[0m \u001b[1m4s\u001b[0m 6ms/step - accuracy: 0.8499 - loss: 0.3752 - val_accuracy: 0.8470 - val_loss: 0.3737\n",
            "Epoch 26/500\n",
            "\u001b[1m536/536\u001b[0m \u001b[32m━━━━━━━━━━━━━━━━━━━━\u001b[0m\u001b[37m\u001b[0m \u001b[1m5s\u001b[0m 5ms/step - accuracy: 0.8449 - loss: 0.3804 - val_accuracy: 0.8485 - val_loss: 0.3750\n",
            "Epoch 27/500\n",
            "\u001b[1m536/536\u001b[0m \u001b[32m━━━━━━━━━━━━━━━━━━━━\u001b[0m\u001b[37m\u001b[0m \u001b[1m2s\u001b[0m 3ms/step - accuracy: 0.8501 - loss: 0.3680 - val_accuracy: 0.8466 - val_loss: 0.3695\n",
            "Epoch 28/500\n",
            "\u001b[1m536/536\u001b[0m \u001b[32m━━━━━━━━━━━━━━━━━━━━\u001b[0m\u001b[37m\u001b[0m \u001b[1m2s\u001b[0m 3ms/step - accuracy: 0.8406 - loss: 0.3761 - val_accuracy: 0.8323 - val_loss: 0.3879\n",
            "Epoch 29/500\n",
            "\u001b[1m536/536\u001b[0m \u001b[32m━━━━━━━━━━━━━━━━━━━━\u001b[0m\u001b[37m\u001b[0m \u001b[1m2s\u001b[0m 3ms/step - accuracy: 0.8363 - loss: 0.3873 - val_accuracy: 0.8451 - val_loss: 0.3805\n",
            "Epoch 30/500\n",
            "\u001b[1m536/536\u001b[0m \u001b[32m━━━━━━━━━━━━━━━━━━━━\u001b[0m\u001b[37m\u001b[0m \u001b[1m2s\u001b[0m 3ms/step - accuracy: 0.8505 - loss: 0.3599 - val_accuracy: 0.8519 - val_loss: 0.3732\n",
            "Epoch 31/500\n",
            "\u001b[1m536/536\u001b[0m \u001b[32m━━━━━━━━━━━━━━━━━━━━\u001b[0m\u001b[37m\u001b[0m \u001b[1m4s\u001b[0m 6ms/step - accuracy: 0.8469 - loss: 0.3819 - val_accuracy: 0.8508 - val_loss: 0.3689\n",
            "Epoch 32/500\n",
            "\u001b[1m536/536\u001b[0m \u001b[32m━━━━━━━━━━━━━━━━━━━━\u001b[0m\u001b[37m\u001b[0m \u001b[1m4s\u001b[0m 5ms/step - accuracy: 0.8449 - loss: 0.3806 - val_accuracy: 0.8546 - val_loss: 0.3679\n",
            "Epoch 33/500\n",
            "\u001b[1m536/536\u001b[0m \u001b[32m━━━━━━━━━━━━━━━━━━━━\u001b[0m\u001b[37m\u001b[0m \u001b[1m4s\u001b[0m 3ms/step - accuracy: 0.8434 - loss: 0.3796 - val_accuracy: 0.8516 - val_loss: 0.3778\n",
            "Epoch 33: early stopping\n"
          ]
        }
      ]
    },
    {
      "cell_type": "code",
      "source": [
        "model_history.history.keys()\n",
        "\n",
        "plt.plot(model_history.history['accuracy'])\n",
        "plt.plot(model_history.history['val_accuracy'])\n",
        "plt.title('Model Accuracy')\n",
        "plt.ylabel('Accuracy')\n",
        "plt.xlabel('Epoch')\n",
        "plt.legend(['Train','Test'],loc='upper left')"
      ],
      "metadata": {
        "colab": {
          "base_uri": "https://localhost:8080/",
          "height": 489
        },
        "id": "b5HaTaSHNnvL",
        "outputId": "1d45ffc6-b2e1-4a4a-9c07-7e4074c73e40"
      },
      "execution_count": null,
      "outputs": [
        {
          "output_type": "execute_result",
          "data": {
            "text/plain": [
              "<matplotlib.legend.Legend at 0x78a65d750250>"
            ]
          },
          "metadata": {},
          "execution_count": 34
        },
        {
          "output_type": "display_data",
          "data": {
            "text/plain": [
              "<Figure size 640x480 with 1 Axes>"
            ],
            "image/png": "[encoded data removed]"
          },
          "metadata": {}
        }
      ]
    },
    {
      "cell_type": "code",
      "source": [
        "# Create Prediction\n",
        "\n",
        "y_pred = classifier.predict(X_test)\n",
        "y_pred = (y_pred > 0.5)"
      ],
      "metadata": {
        "colab": {
          "base_uri": "https://localhost:8080/"
        },
        "id": "jE8s_Jq4P2ER",
        "outputId": "59569f7e-da03-4381-99fc-ca90be9649dc"
      },
      "execution_count": null,
      "outputs": [
        {
          "output_type": "stream",
          "name": "stdout",
          "text": [
            "\u001b[1m63/63\u001b[0m \u001b[32m━━━━━━━━━━━━━━━━━━━━\u001b[0m\u001b[37m\u001b[0m \u001b[1m1s\u001b[0m 8ms/step\n"
          ]
        }
      ]
    },
    {
      "cell_type": "code",
      "source": [
        "# Making the confusion Matrix\n",
        "\n",
        "from sklearn.metrics import confusion_matrix\n",
        "cm = confusion_matrix(y_test,y_pred)\n",
        "cm"
      ],
      "metadata": {
        "colab": {
          "base_uri": "https://localhost:8080/"
        },
        "id": "8Xu5L3bmQEGx",
        "outputId": "b874d3f6-5e1c-44ce-8556-09f44ed0c30f"
      },
      "execution_count": null,
      "outputs": [
        {
          "output_type": "execute_result",
          "data": {
            "text/plain": [
              "array([[1517,   78],\n",
              "       [ 206,  199]])"
            ]
          },
          "metadata": {},
          "execution_count": 36
        }
      ]
    },
    {
      "cell_type": "code",
      "source": [],
      "metadata": {
        "id": "FMETYL8AR05e"
      },
      "execution_count": null,
      "outputs": []
    }
  ]
}